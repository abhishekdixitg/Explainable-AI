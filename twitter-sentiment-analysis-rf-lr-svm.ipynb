{
 "cells": [
  {
   "cell_type": "code",
   "execution_count": 1,
   "id": "926b6241",
   "metadata": {
    "_cell_guid": "b1076dfc-b9ad-4769-8c92-a6c4dae69d19",
    "_uuid": "8f2839f25d086af736a60e9eeb907d3b93b6e0e5",
    "execution": {
     "iopub.execute_input": "2023-05-26T18:31:34.551494Z",
     "iopub.status.busy": "2023-05-26T18:31:34.551063Z",
     "iopub.status.idle": "2023-05-26T18:31:34.578490Z",
     "shell.execute_reply": "2023-05-26T18:31:34.577065Z"
    },
    "papermill": {
     "duration": 0.041344,
     "end_time": "2023-05-26T18:31:34.581589",
     "exception": false,
     "start_time": "2023-05-26T18:31:34.540245",
     "status": "completed"
    },
    "tags": []
   },
   "outputs": [
    {
     "name": "stdout",
     "output_type": "stream",
     "text": [
      "/kaggle/input/twitter-sentiment-analysis-hatred-speech/train.csv\n",
      "/kaggle/input/twitter-sentiment-analysis-hatred-speech/test.csv\n",
      "/kaggle/input/nlpgettingstarted/sample_submission.csv\n",
      "/kaggle/input/nlpgettingstarted/train.csv\n",
      "/kaggle/input/nlpgettingstarted/test.csv\n"
     ]
    }
   ],
   "source": [
    "# This Python 3 environment comes with many helpful analytics libraries installed\n",
    "# It is defined by the kaggle/python Docker image: https://github.com/kaggle/docker-python\n",
    "# For example, here's several helpful packages to load\n",
    "\n",
    "import numpy as np # linear algebra\n",
    "import pandas as pd # data processing, CSV file I/O (e.g. pd.read_csv)\n",
    "\n",
    "# Input data files are available in the read-only \"../input/\" directory\n",
    "# For example, running this (by clicking run or pressing Shift+Enter) will list all files under the input directory\n",
    "\n",
    "import os\n",
    "for dirname, _, filenames in os.walk('/kaggle/input'):\n",
    "    for filename in filenames:\n",
    "        print(os.path.join(dirname, filename))\n",
    "\n",
    "# You can write up to 20GB to the current directory (/kaggle/working/) that gets preserved as output when you create a version using \"Save & Run All\" \n",
    "# You can also write temporary files to /kaggle/temp/, but they won't be saved outside of the current session"
   ]
  },
  {
   "cell_type": "code",
   "execution_count": 2,
   "id": "5287fce6",
   "metadata": {
    "execution": {
     "iopub.execute_input": "2023-05-26T18:31:34.600268Z",
     "iopub.status.busy": "2023-05-26T18:31:34.599866Z",
     "iopub.status.idle": "2023-05-26T18:31:34.762150Z",
     "shell.execute_reply": "2023-05-26T18:31:34.761232Z"
    },
    "papermill": {
     "duration": 0.174367,
     "end_time": "2023-05-26T18:31:34.764441",
     "exception": false,
     "start_time": "2023-05-26T18:31:34.590074",
     "status": "completed"
    },
    "tags": []
   },
   "outputs": [
    {
     "data": {
      "text/html": [
       "<div>\n",
       "<style scoped>\n",
       "    .dataframe tbody tr th:only-of-type {\n",
       "        vertical-align: middle;\n",
       "    }\n",
       "\n",
       "    .dataframe tbody tr th {\n",
       "        vertical-align: top;\n",
       "    }\n",
       "\n",
       "    .dataframe thead th {\n",
       "        text-align: right;\n",
       "    }\n",
       "</style>\n",
       "<table border=\"1\" class=\"dataframe\">\n",
       "  <thead>\n",
       "    <tr style=\"text-align: right;\">\n",
       "      <th></th>\n",
       "      <th>id</th>\n",
       "      <th>label</th>\n",
       "      <th>tweet</th>\n",
       "    </tr>\n",
       "  </thead>\n",
       "  <tbody>\n",
       "    <tr>\n",
       "      <th>0</th>\n",
       "      <td>1</td>\n",
       "      <td>0</td>\n",
       "      <td>@user when a father is dysfunctional and is s...</td>\n",
       "    </tr>\n",
       "    <tr>\n",
       "      <th>1</th>\n",
       "      <td>2</td>\n",
       "      <td>0</td>\n",
       "      <td>@user @user thanks for #lyft credit i can't us...</td>\n",
       "    </tr>\n",
       "    <tr>\n",
       "      <th>2</th>\n",
       "      <td>3</td>\n",
       "      <td>0</td>\n",
       "      <td>bihday your majesty</td>\n",
       "    </tr>\n",
       "    <tr>\n",
       "      <th>3</th>\n",
       "      <td>4</td>\n",
       "      <td>0</td>\n",
       "      <td>#model   i love u take with u all the time in ...</td>\n",
       "    </tr>\n",
       "    <tr>\n",
       "      <th>4</th>\n",
       "      <td>5</td>\n",
       "      <td>0</td>\n",
       "      <td>factsguide: society now    #motivation</td>\n",
       "    </tr>\n",
       "    <tr>\n",
       "      <th>...</th>\n",
       "      <td>...</td>\n",
       "      <td>...</td>\n",
       "      <td>...</td>\n",
       "    </tr>\n",
       "    <tr>\n",
       "      <th>31957</th>\n",
       "      <td>31958</td>\n",
       "      <td>0</td>\n",
       "      <td>ate @user isz that youuu?ðððððð...</td>\n",
       "    </tr>\n",
       "    <tr>\n",
       "      <th>31958</th>\n",
       "      <td>31959</td>\n",
       "      <td>0</td>\n",
       "      <td>to see nina turner on the airwaves trying to...</td>\n",
       "    </tr>\n",
       "    <tr>\n",
       "      <th>31959</th>\n",
       "      <td>31960</td>\n",
       "      <td>0</td>\n",
       "      <td>listening to sad songs on a monday morning otw...</td>\n",
       "    </tr>\n",
       "    <tr>\n",
       "      <th>31960</th>\n",
       "      <td>31961</td>\n",
       "      <td>1</td>\n",
       "      <td>@user #sikh #temple vandalised in in #calgary,...</td>\n",
       "    </tr>\n",
       "    <tr>\n",
       "      <th>31961</th>\n",
       "      <td>31962</td>\n",
       "      <td>0</td>\n",
       "      <td>thank you @user for you follow</td>\n",
       "    </tr>\n",
       "  </tbody>\n",
       "</table>\n",
       "<p>31962 rows × 3 columns</p>\n",
       "</div>"
      ],
      "text/plain": [
       "          id  label                                              tweet\n",
       "0          1      0   @user when a father is dysfunctional and is s...\n",
       "1          2      0  @user @user thanks for #lyft credit i can't us...\n",
       "2          3      0                                bihday your majesty\n",
       "3          4      0  #model   i love u take with u all the time in ...\n",
       "4          5      0             factsguide: society now    #motivation\n",
       "...      ...    ...                                                ...\n",
       "31957  31958      0  ate @user isz that youuu?ðððððð...\n",
       "31958  31959      0    to see nina turner on the airwaves trying to...\n",
       "31959  31960      0  listening to sad songs on a monday morning otw...\n",
       "31960  31961      1  @user #sikh #temple vandalised in in #calgary,...\n",
       "31961  31962      0                   thank you @user for you follow  \n",
       "\n",
       "[31962 rows x 3 columns]"
      ]
     },
     "execution_count": 2,
     "metadata": {},
     "output_type": "execute_result"
    }
   ],
   "source": [
    "data_train = pd.read_csv('/kaggle/input/twitter-sentiment-analysis-hatred-speech/train.csv')\n",
    "data_train"
   ]
  },
  {
   "cell_type": "code",
   "execution_count": 3,
   "id": "3183eb4f",
   "metadata": {
    "execution": {
     "iopub.execute_input": "2023-05-26T18:31:34.783258Z",
     "iopub.status.busy": "2023-05-26T18:31:34.782863Z",
     "iopub.status.idle": "2023-05-26T18:31:34.820399Z",
     "shell.execute_reply": "2023-05-26T18:31:34.818280Z"
    },
    "papermill": {
     "duration": 0.050004,
     "end_time": "2023-05-26T18:31:34.822931",
     "exception": false,
     "start_time": "2023-05-26T18:31:34.772927",
     "status": "completed"
    },
    "tags": []
   },
   "outputs": [
    {
     "name": "stdout",
     "output_type": "stream",
     "text": [
      "<class 'pandas.core.frame.DataFrame'>\n",
      "RangeIndex: 31962 entries, 0 to 31961\n",
      "Data columns (total 3 columns):\n",
      " #   Column  Non-Null Count  Dtype \n",
      "---  ------  --------------  ----- \n",
      " 0   id      31962 non-null  int64 \n",
      " 1   label   31962 non-null  int64 \n",
      " 2   tweet   31962 non-null  object\n",
      "dtypes: int64(2), object(1)\n",
      "memory usage: 749.2+ KB\n"
     ]
    }
   ],
   "source": [
    "data_train.info()"
   ]
  },
  {
   "cell_type": "code",
   "execution_count": 4,
   "id": "0171b0e1",
   "metadata": {
    "execution": {
     "iopub.execute_input": "2023-05-26T18:31:34.842542Z",
     "iopub.status.busy": "2023-05-26T18:31:34.841337Z",
     "iopub.status.idle": "2023-05-26T18:31:34.852835Z",
     "shell.execute_reply": "2023-05-26T18:31:34.851713Z"
    },
    "papermill": {
     "duration": 0.023598,
     "end_time": "2023-05-26T18:31:34.855138",
     "exception": false,
     "start_time": "2023-05-26T18:31:34.831540",
     "status": "completed"
    },
    "tags": []
   },
   "outputs": [
    {
     "data": {
      "text/html": [
       "<div>\n",
       "<style scoped>\n",
       "    .dataframe tbody tr th:only-of-type {\n",
       "        vertical-align: middle;\n",
       "    }\n",
       "\n",
       "    .dataframe tbody tr th {\n",
       "        vertical-align: top;\n",
       "    }\n",
       "\n",
       "    .dataframe thead th {\n",
       "        text-align: right;\n",
       "    }\n",
       "</style>\n",
       "<table border=\"1\" class=\"dataframe\">\n",
       "  <thead>\n",
       "    <tr style=\"text-align: right;\">\n",
       "      <th></th>\n",
       "      <th>id</th>\n",
       "      <th>label</th>\n",
       "      <th>tweet</th>\n",
       "    </tr>\n",
       "  </thead>\n",
       "  <tbody>\n",
       "    <tr>\n",
       "      <th>0</th>\n",
       "      <td>1</td>\n",
       "      <td>0</td>\n",
       "      <td>@user when a father is dysfunctional and is s...</td>\n",
       "    </tr>\n",
       "    <tr>\n",
       "      <th>1</th>\n",
       "      <td>2</td>\n",
       "      <td>0</td>\n",
       "      <td>@user @user thanks for #lyft credit i can't us...</td>\n",
       "    </tr>\n",
       "    <tr>\n",
       "      <th>2</th>\n",
       "      <td>3</td>\n",
       "      <td>0</td>\n",
       "      <td>bihday your majesty</td>\n",
       "    </tr>\n",
       "    <tr>\n",
       "      <th>3</th>\n",
       "      <td>4</td>\n",
       "      <td>0</td>\n",
       "      <td>#model   i love u take with u all the time in ...</td>\n",
       "    </tr>\n",
       "    <tr>\n",
       "      <th>4</th>\n",
       "      <td>5</td>\n",
       "      <td>0</td>\n",
       "      <td>factsguide: society now    #motivation</td>\n",
       "    </tr>\n",
       "  </tbody>\n",
       "</table>\n",
       "</div>"
      ],
      "text/plain": [
       "   id  label                                              tweet\n",
       "0   1      0   @user when a father is dysfunctional and is s...\n",
       "1   2      0  @user @user thanks for #lyft credit i can't us...\n",
       "2   3      0                                bihday your majesty\n",
       "3   4      0  #model   i love u take with u all the time in ...\n",
       "4   5      0             factsguide: society now    #motivation"
      ]
     },
     "execution_count": 4,
     "metadata": {},
     "output_type": "execute_result"
    }
   ],
   "source": [
    "data_train.head()"
   ]
  },
  {
   "cell_type": "code",
   "execution_count": 5,
   "id": "f052305a",
   "metadata": {
    "execution": {
     "iopub.execute_input": "2023-05-26T18:31:34.876353Z",
     "iopub.status.busy": "2023-05-26T18:31:34.875959Z",
     "iopub.status.idle": "2023-05-26T18:31:34.893399Z",
     "shell.execute_reply": "2023-05-26T18:31:34.892034Z"
    },
    "papermill": {
     "duration": 0.030453,
     "end_time": "2023-05-26T18:31:34.895877",
     "exception": false,
     "start_time": "2023-05-26T18:31:34.865424",
     "status": "completed"
    },
    "tags": []
   },
   "outputs": [
    {
     "name": "stdout",
     "output_type": "stream",
     "text": [
      "False\n"
     ]
    }
   ],
   "source": [
    "print(data_train.isnull().values.any())"
   ]
  },
  {
   "cell_type": "code",
   "execution_count": 6,
   "id": "58483a0a",
   "metadata": {
    "execution": {
     "iopub.execute_input": "2023-05-26T18:31:34.915907Z",
     "iopub.status.busy": "2023-05-26T18:31:34.915491Z",
     "iopub.status.idle": "2023-05-26T18:31:34.924503Z",
     "shell.execute_reply": "2023-05-26T18:31:34.923326Z"
    },
    "papermill": {
     "duration": 0.02207,
     "end_time": "2023-05-26T18:31:34.926908",
     "exception": false,
     "start_time": "2023-05-26T18:31:34.904838",
     "status": "completed"
    },
    "tags": []
   },
   "outputs": [
    {
     "data": {
      "text/plain": [
       "0    29720\n",
       "1     2242\n",
       "Name: label, dtype: int64"
      ]
     },
     "execution_count": 6,
     "metadata": {},
     "output_type": "execute_result"
    }
   ],
   "source": [
    "data_train['label'].value_counts()"
   ]
  },
  {
   "cell_type": "code",
   "execution_count": 7,
   "id": "bb1727c7",
   "metadata": {
    "execution": {
     "iopub.execute_input": "2023-05-26T18:31:34.946948Z",
     "iopub.status.busy": "2023-05-26T18:31:34.946580Z",
     "iopub.status.idle": "2023-05-26T18:31:35.311508Z",
     "shell.execute_reply": "2023-05-26T18:31:35.310709Z"
    },
    "papermill": {
     "duration": 0.37775,
     "end_time": "2023-05-26T18:31:35.313739",
     "exception": false,
     "start_time": "2023-05-26T18:31:34.935989",
     "status": "completed"
    },
    "tags": []
   },
   "outputs": [
    {
     "data": {
      "image/png": "[encoded data removed]",
      "text/plain": [
       "<Figure size 640x480 with 1 Axes>"
      ]
     },
     "metadata": {},
     "output_type": "display_data"
    }
   ],
   "source": [
    "import matplotlib.pyplot as plt\n",
    "\n",
    "pd.value_counts(data_train['label']).plot.bar()\n",
    "plt.title('Distribution')\n",
    "plt.xlabel('label')\n",
    "plt.ylabel('counts')\n",
    "plt.legend()\n",
    "plt.show()"
   ]
  },
  {
   "cell_type": "code",
   "execution_count": 8,
   "id": "c238b845",
   "metadata": {
    "execution": {
     "iopub.execute_input": "2023-05-26T18:31:35.335170Z",
     "iopub.status.busy": "2023-05-26T18:31:35.334080Z",
     "iopub.status.idle": "2023-05-26T18:31:35.340975Z",
     "shell.execute_reply": "2023-05-26T18:31:35.339964Z"
    },
    "papermill": {
     "duration": 0.020165,
     "end_time": "2023-05-26T18:31:35.343435",
     "exception": false,
     "start_time": "2023-05-26T18:31:35.323270",
     "status": "completed"
    },
    "tags": []
   },
   "outputs": [
    {
     "data": {
      "text/plain": [
       "(31962, 3)"
      ]
     },
     "execution_count": 8,
     "metadata": {},
     "output_type": "execute_result"
    }
   ],
   "source": [
    "data_train.shape"
   ]
  },
  {
   "cell_type": "code",
   "execution_count": 9,
   "id": "8e87c7ad",
   "metadata": {
    "execution": {
     "iopub.execute_input": "2023-05-26T18:31:35.364828Z",
     "iopub.status.busy": "2023-05-26T18:31:35.364156Z",
     "iopub.status.idle": "2023-05-26T18:31:35.434749Z",
     "shell.execute_reply": "2023-05-26T18:31:35.433693Z"
    },
    "papermill": {
     "duration": 0.084365,
     "end_time": "2023-05-26T18:31:35.437468",
     "exception": false,
     "start_time": "2023-05-26T18:31:35.353103",
     "status": "completed"
    },
    "tags": []
   },
   "outputs": [],
   "source": [
    "dataTest = pd.read_csv('/kaggle/input/twitter-sentiment-analysis-hatred-speech/test.csv')"
   ]
  },
  {
   "cell_type": "code",
   "execution_count": 10,
   "id": "a230ae96",
   "metadata": {
    "execution": {
     "iopub.execute_input": "2023-05-26T18:31:35.458933Z",
     "iopub.status.busy": "2023-05-26T18:31:35.458362Z",
     "iopub.status.idle": "2023-05-26T18:31:35.465302Z",
     "shell.execute_reply": "2023-05-26T18:31:35.464211Z"
    },
    "papermill": {
     "duration": 0.020302,
     "end_time": "2023-05-26T18:31:35.467600",
     "exception": false,
     "start_time": "2023-05-26T18:31:35.447298",
     "status": "completed"
    },
    "tags": []
   },
   "outputs": [
    {
     "data": {
      "text/plain": [
       "(17197, 2)"
      ]
     },
     "execution_count": 10,
     "metadata": {},
     "output_type": "execute_result"
    }
   ],
   "source": [
    "dataTest.shape"
   ]
  },
  {
   "cell_type": "code",
   "execution_count": 11,
   "id": "ce3294b3",
   "metadata": {
    "execution": {
     "iopub.execute_input": "2023-05-26T18:31:35.489052Z",
     "iopub.status.busy": "2023-05-26T18:31:35.488651Z",
     "iopub.status.idle": "2023-05-26T18:31:35.501783Z",
     "shell.execute_reply": "2023-05-26T18:31:35.500214Z"
    },
    "papermill": {
     "duration": 0.027051,
     "end_time": "2023-05-26T18:31:35.504309",
     "exception": false,
     "start_time": "2023-05-26T18:31:35.477258",
     "status": "completed"
    },
    "tags": []
   },
   "outputs": [
    {
     "name": "stdout",
     "output_type": "stream",
     "text": [
      "False\n"
     ]
    }
   ],
   "source": [
    "print(dataTest.isnull().values.any())"
   ]
  },
  {
   "cell_type": "code",
   "execution_count": 12,
   "id": "1d468bd5",
   "metadata": {
    "execution": {
     "iopub.execute_input": "2023-05-26T18:31:35.526650Z",
     "iopub.status.busy": "2023-05-26T18:31:35.526141Z",
     "iopub.status.idle": "2023-05-26T18:31:36.084257Z",
     "shell.execute_reply": "2023-05-26T18:31:36.082819Z"
    },
    "papermill": {
     "duration": 0.572525,
     "end_time": "2023-05-26T18:31:36.086996",
     "exception": false,
     "start_time": "2023-05-26T18:31:35.514471",
     "status": "completed"
    },
    "tags": []
   },
   "outputs": [
    {
     "data": {
      "image/png": "[encoded data removed]",
      "text/plain": [
       "<Figure size 640x480 with 1 Axes>"
      ]
     },
     "metadata": {},
     "output_type": "display_data"
    }
   ],
   "source": [
    "trainLen = data_train['tweet'].str.len()\n",
    "testLen = dataTest['tweet'].str.len()\n",
    "\n",
    "plt.hist(trainLen, label = 'train_tweets', bins =15)\n",
    "plt.hist(testLen, label = 'test_tweets', bins =15)\n",
    "\n",
    "plt.title('Length of the Tweets')\n",
    "plt.xlabel('tweets_length')\n",
    "plt.ylabel('counts')\n",
    "plt.legend()\n",
    "plt.show()\n"
   ]
  },
  {
   "cell_type": "code",
   "execution_count": 13,
   "id": "24767eb6",
   "metadata": {
    "execution": {
     "iopub.execute_input": "2023-05-26T18:31:36.109841Z",
     "iopub.status.busy": "2023-05-26T18:31:36.109414Z",
     "iopub.status.idle": "2023-05-26T18:31:36.186640Z",
     "shell.execute_reply": "2023-05-26T18:31:36.185552Z"
    },
    "papermill": {
     "duration": 0.091703,
     "end_time": "2023-05-26T18:31:36.189068",
     "exception": false,
     "start_time": "2023-05-26T18:31:36.097365",
     "status": "completed"
    },
    "tags": []
   },
   "outputs": [
    {
     "data": {
      "text/html": [
       "<div>\n",
       "<style scoped>\n",
       "    .dataframe tbody tr th:only-of-type {\n",
       "        vertical-align: middle;\n",
       "    }\n",
       "\n",
       "    .dataframe tbody tr th {\n",
       "        vertical-align: top;\n",
       "    }\n",
       "\n",
       "    .dataframe thead th {\n",
       "        text-align: right;\n",
       "    }\n",
       "</style>\n",
       "<table border=\"1\" class=\"dataframe\">\n",
       "  <thead>\n",
       "    <tr style=\"text-align: right;\">\n",
       "      <th></th>\n",
       "      <th>id</th>\n",
       "      <th>label</th>\n",
       "      <th>tweet</th>\n",
       "      <th>word count</th>\n",
       "    </tr>\n",
       "  </thead>\n",
       "  <tbody>\n",
       "    <tr>\n",
       "      <th>0</th>\n",
       "      <td>1</td>\n",
       "      <td>0</td>\n",
       "      <td>@user when a father is dysfunctional and is s...</td>\n",
       "      <td>18</td>\n",
       "    </tr>\n",
       "    <tr>\n",
       "      <th>1</th>\n",
       "      <td>2</td>\n",
       "      <td>0</td>\n",
       "      <td>@user @user thanks for #lyft credit i can't us...</td>\n",
       "      <td>19</td>\n",
       "    </tr>\n",
       "    <tr>\n",
       "      <th>2</th>\n",
       "      <td>3</td>\n",
       "      <td>0</td>\n",
       "      <td>bihday your majesty</td>\n",
       "      <td>3</td>\n",
       "    </tr>\n",
       "    <tr>\n",
       "      <th>3</th>\n",
       "      <td>4</td>\n",
       "      <td>0</td>\n",
       "      <td>#model   i love u take with u all the time in ...</td>\n",
       "      <td>14</td>\n",
       "    </tr>\n",
       "    <tr>\n",
       "      <th>4</th>\n",
       "      <td>5</td>\n",
       "      <td>0</td>\n",
       "      <td>factsguide: society now    #motivation</td>\n",
       "      <td>4</td>\n",
       "    </tr>\n",
       "  </tbody>\n",
       "</table>\n",
       "</div>"
      ],
      "text/plain": [
       "   id  label                                              tweet  word count\n",
       "0   1      0   @user when a father is dysfunctional and is s...          18\n",
       "1   2      0  @user @user thanks for #lyft credit i can't us...          19\n",
       "2   3      0                                bihday your majesty           3\n",
       "3   4      0  #model   i love u take with u all the time in ...          14\n",
       "4   5      0             factsguide: society now    #motivation           4"
      ]
     },
     "execution_count": 13,
     "metadata": {},
     "output_type": "execute_result"
    }
   ],
   "source": [
    "def word_count(sentence):\n",
    "    return len(sentence.split())\n",
    "\n",
    "data_train['word count'] = data_train['tweet'].apply(word_count)\n",
    "data_train.head()"
   ]
  },
  {
   "cell_type": "code",
   "execution_count": 14,
   "id": "b11f4b17",
   "metadata": {
    "execution": {
     "iopub.execute_input": "2023-05-26T18:31:36.213134Z",
     "iopub.status.busy": "2023-05-26T18:31:36.212742Z",
     "iopub.status.idle": "2023-05-26T18:31:39.120357Z",
     "shell.execute_reply": "2023-05-26T18:31:39.119483Z"
    },
    "papermill": {
     "duration": 2.922333,
     "end_time": "2023-05-26T18:31:39.122688",
     "exception": false,
     "start_time": "2023-05-26T18:31:36.200355",
     "status": "completed"
    },
    "tags": []
   },
   "outputs": [
    {
     "data": {
      "image/png": "[encoded data removed]",
      "text/plain": [
       "<Figure size 1500x700 with 1 Axes>"
      ]
     },
     "metadata": {},
     "output_type": "display_data"
    }
   ],
   "source": [
    "from sklearn.feature_extraction.text import CountVectorizer\n",
    "\n",
    "cv = CountVectorizer(stop_words = 'english')\n",
    "\n",
    "words = cv.fit_transform(data_train.tweet)\n",
    "\n",
    "sum_words = words.sum(axis = 0)\n",
    "\n",
    "words_frequency = [(word, sum_words[0, i]) for word, i in cv.vocabulary_.items()]\n",
    "words_frequency = sorted(words_frequency, key = lambda x: x[1], reverse = True)\n",
    "\n",
    "frequency = pd.DataFrame(words_frequency, columns = ['word', 'freq'])\n",
    "\n",
    "frequency.head(30).plot(x = 'word', y = 'freq', kind = 'bar', figsize = (15, 7), color = \"blue\")\n",
    "\n",
    "plt.title(\"Most Frequently occuring words - Top 30\")\n",
    "plt.xlabel(\"Words\")\n",
    "plt.ylabel(\"Frequency\")\n",
    "plt.show()\n",
    "                    "
   ]
  },
  {
   "cell_type": "code",
   "execution_count": 15,
   "id": "e878eab8",
   "metadata": {
    "execution": {
     "iopub.execute_input": "2023-05-26T18:31:39.148187Z",
     "iopub.status.busy": "2023-05-26T18:31:39.147080Z",
     "iopub.status.idle": "2023-05-26T18:31:39.927388Z",
     "shell.execute_reply": "2023-05-26T18:31:39.925863Z"
    },
    "papermill": {
     "duration": 0.795897,
     "end_time": "2023-05-26T18:31:39.930082",
     "exception": false,
     "start_time": "2023-05-26T18:31:39.134185",
     "status": "completed"
    },
    "tags": []
   },
   "outputs": [
    {
     "name": "stdout",
     "output_type": "stream",
     "text": [
      "[nltk_data] Downloading package stopwords to /usr/share/nltk_data...\n",
      "[nltk_data]   Package stopwords is already up-to-date!\n"
     ]
    }
   ],
   "source": [
    "# removing unwanted patterns from the data\n",
    "\n",
    "import re\n",
    "import nltk\n",
    "\n",
    "nltk.download('stopwords')\n",
    "from nltk.corpus import stopwords\n",
    "from nltk.stem.porter import PorterStemmer"
   ]
  },
  {
   "cell_type": "code",
   "execution_count": 16,
   "id": "b0ae7577",
   "metadata": {
    "execution": {
     "iopub.execute_input": "2023-05-26T18:31:39.955885Z",
     "iopub.status.busy": "2023-05-26T18:31:39.954961Z",
     "iopub.status.idle": "2023-05-26T18:32:54.980349Z",
     "shell.execute_reply": "2023-05-26T18:32:54.979012Z"
    },
    "papermill": {
     "duration": 75.041708,
     "end_time": "2023-05-26T18:32:54.983308",
     "exception": false,
     "start_time": "2023-05-26T18:31:39.941600",
     "status": "completed"
    },
    "tags": []
   },
   "outputs": [],
   "source": [
    "train_corpus = []\n",
    "\n",
    "for i in range(0, 31962):\n",
    "  review = re.sub('[^a-zA-Z]', ' ', data_train['tweet'][i])\n",
    "  review = review.lower()\n",
    "  review = review.split()\n",
    "  \n",
    "  ps = PorterStemmer()\n",
    "  \n",
    "  # stemming\n",
    "  review = [ps.stem(word) for word in review if not word in set(stopwords.words('english'))]\n",
    "  \n",
    "  # joining them back with space\n",
    "  review = ' '.join(review)\n",
    "  train_corpus.append(review)"
   ]
  },
  {
   "cell_type": "code",
   "execution_count": 17,
   "id": "7c75826f",
   "metadata": {
    "execution": {
     "iopub.execute_input": "2023-05-26T18:32:55.009056Z",
     "iopub.status.busy": "2023-05-26T18:32:55.008609Z",
     "iopub.status.idle": "2023-05-26T18:33:35.654729Z",
     "shell.execute_reply": "2023-05-26T18:33:35.653746Z"
    },
    "papermill": {
     "duration": 40.662068,
     "end_time": "2023-05-26T18:33:35.657691",
     "exception": false,
     "start_time": "2023-05-26T18:32:54.995623",
     "status": "completed"
    },
    "tags": []
   },
   "outputs": [],
   "source": [
    "test_corpus = []\n",
    "\n",
    "for i in range(0, 17197):\n",
    "  review = re.sub('[^a-zA-Z]', ' ', dataTest['tweet'][i])\n",
    "  review = review.lower()\n",
    "  review = review.split()\n",
    "  \n",
    "  ps = PorterStemmer()\n",
    "  \n",
    "  # stemming\n",
    "  review = [ps.stem(word) for word in review if not word in set(stopwords.words('english'))]\n",
    "  \n",
    "  # joining them back with space\n",
    "  review = ' '.join(review)\n",
    "  test_corpus.append(review)"
   ]
  },
  {
   "cell_type": "code",
   "execution_count": 18,
   "id": "b38b479a",
   "metadata": {
    "execution": {
     "iopub.execute_input": "2023-05-26T18:33:35.682993Z",
     "iopub.status.busy": "2023-05-26T18:33:35.682586Z",
     "iopub.status.idle": "2023-05-26T18:33:36.555424Z",
     "shell.execute_reply": "2023-05-26T18:33:36.553990Z"
    },
    "papermill": {
     "duration": 0.888613,
     "end_time": "2023-05-26T18:33:36.558224",
     "exception": false,
     "start_time": "2023-05-26T18:33:35.669611",
     "status": "completed"
    },
    "tags": []
   },
   "outputs": [
    {
     "name": "stdout",
     "output_type": "stream",
     "text": [
      "(31962, 2500)\n",
      "(31962,)\n"
     ]
    }
   ],
   "source": [
    "from sklearn.feature_extraction.text import CountVectorizer\n",
    "\n",
    "cv = CountVectorizer(max_features = 2500)\n",
    "x = cv.fit_transform(train_corpus).toarray()\n",
    "y = data_train.iloc[:,1]\n",
    "\n",
    "print(x.shape)\n",
    "print(y.shape)"
   ]
  },
  {
   "cell_type": "code",
   "execution_count": 19,
   "id": "02c53de8",
   "metadata": {
    "execution": {
     "iopub.execute_input": "2023-05-26T18:33:36.583376Z",
     "iopub.status.busy": "2023-05-26T18:33:36.582976Z",
     "iopub.status.idle": "2023-05-26T18:33:37.056261Z",
     "shell.execute_reply": "2023-05-26T18:33:37.054680Z"
    },
    "papermill": {
     "duration": 0.488961,
     "end_time": "2023-05-26T18:33:37.058926",
     "exception": false,
     "start_time": "2023-05-26T18:33:36.569965",
     "status": "completed"
    },
    "tags": []
   },
   "outputs": [
    {
     "name": "stdout",
     "output_type": "stream",
     "text": [
      "(17197, 2500)\n"
     ]
    }
   ],
   "source": [
    "from sklearn.feature_extraction.text import CountVectorizer\n",
    "\n",
    "cv = CountVectorizer(max_features = 2500)\n",
    "\n",
    "x_test = cv.fit_transform(test_corpus).toarray()\n",
    "\n",
    "print(x_test.shape)"
   ]
  },
  {
   "cell_type": "code",
   "execution_count": 20,
   "id": "773afc6f",
   "metadata": {
    "execution": {
     "iopub.execute_input": "2023-05-26T18:33:37.084575Z",
     "iopub.status.busy": "2023-05-26T18:33:37.083542Z",
     "iopub.status.idle": "2023-05-26T18:33:37.372192Z",
     "shell.execute_reply": "2023-05-26T18:33:37.371006Z"
    },
    "papermill": {
     "duration": 0.304249,
     "end_time": "2023-05-26T18:33:37.374970",
     "exception": false,
     "start_time": "2023-05-26T18:33:37.070721",
     "status": "completed"
    },
    "tags": []
   },
   "outputs": [],
   "source": [
    "from sklearn.model_selection import train_test_split\n",
    "\n",
    "x_train, x_valid, y_train, y_valid = train_test_split(x,y,  test_size = 0.25, random_state =42)"
   ]
  },
  {
   "cell_type": "code",
   "execution_count": 21,
   "id": "a858a689",
   "metadata": {
    "execution": {
     "iopub.execute_input": "2023-05-26T18:33:37.400699Z",
     "iopub.status.busy": "2023-05-26T18:33:37.399576Z",
     "iopub.status.idle": "2023-05-26T18:33:39.420248Z",
     "shell.execute_reply": "2023-05-26T18:33:39.418991Z"
    },
    "papermill": {
     "duration": 2.036399,
     "end_time": "2023-05-26T18:33:39.423078",
     "exception": false,
     "start_time": "2023-05-26T18:33:37.386679",
     "status": "completed"
    },
    "tags": []
   },
   "outputs": [],
   "source": [
    "from sklearn.preprocessing import StandardScaler\n",
    "\n",
    "sc = StandardScaler()\n",
    "\n",
    "x_train = sc.fit_transform(x_train)\n",
    "x_valid = sc.fit_transform(x_valid)\n",
    "x_test = sc.fit_transform(x_test)"
   ]
  },
  {
   "cell_type": "code",
   "execution_count": 22,
   "id": "a7135fe7",
   "metadata": {
    "execution": {
     "iopub.execute_input": "2023-05-26T18:33:39.448568Z",
     "iopub.status.busy": "2023-05-26T18:33:39.448100Z",
     "iopub.status.idle": "2023-05-26T18:36:19.632579Z",
     "shell.execute_reply": "2023-05-26T18:36:19.631281Z"
    },
    "papermill": {
     "duration": 160.200414,
     "end_time": "2023-05-26T18:36:19.635239",
     "exception": false,
     "start_time": "2023-05-26T18:33:39.434825",
     "status": "completed"
    },
    "tags": []
   },
   "outputs": [
    {
     "name": "stdout",
     "output_type": "stream",
     "text": [
      "Training Accuracy : 0.9991656585040257\n",
      "Validation Accuracy : 0.9519459391815793\n",
      "F1 score : 0.6144578313253013\n",
      "[[7301  131]\n",
      " [ 253  306]]\n"
     ]
    }
   ],
   "source": [
    "from sklearn.ensemble import RandomForestClassifier\n",
    "\n",
    "from sklearn.metrics import confusion_matrix\n",
    "from sklearn.metrics import f1_score\n",
    "\n",
    "model = RandomForestClassifier()\n",
    "\n",
    "model.fit(x_train, y_train)\n",
    "\n",
    "y_pred = model.predict(x_valid)\n",
    "\n",
    "print(\"Training Accuracy :\", model.score(x_train, y_train))\n",
    "print(\"Validation Accuracy :\", model.score(x_valid, y_valid))\n",
    "\n",
    "# calculating the f1 score for the validation set\n",
    "print(\"F1 score :\", f1_score(y_valid, y_pred))\n",
    "\n",
    "# confusion matrix\n",
    "cm = confusion_matrix(y_valid, y_pred)\n",
    "print(cm)"
   ]
  },
  {
   "cell_type": "code",
   "execution_count": 23,
   "id": "0b23bad5",
   "metadata": {
    "execution": {
     "iopub.execute_input": "2023-05-26T18:36:19.660820Z",
     "iopub.status.busy": "2023-05-26T18:36:19.659942Z",
     "iopub.status.idle": "2023-05-26T18:36:24.624751Z",
     "shell.execute_reply": "2023-05-26T18:36:24.616780Z"
    },
    "papermill": {
     "duration": 4.982221,
     "end_time": "2023-05-26T18:36:24.629035",
     "exception": false,
     "start_time": "2023-05-26T18:36:19.646814",
     "status": "completed"
    },
    "tags": []
   },
   "outputs": [
    {
     "name": "stdout",
     "output_type": "stream",
     "text": [
      "Training Accuracy : 0.9851487213716574\n",
      "Validation Accuracy : 0.943186084344888\n",
      "F1 score : 0.5960854092526691\n",
      "[[7202  230]\n",
      " [ 224  335]]\n"
     ]
    },
    {
     "name": "stderr",
     "output_type": "stream",
     "text": [
      "/opt/conda/lib/python3.10/site-packages/sklearn/linear_model/_logistic.py:458: ConvergenceWarning: lbfgs failed to converge (status=1):\n",
      "STOP: TOTAL NO. of ITERATIONS REACHED LIMIT.\n",
      "\n",
      "Increase the number of iterations (max_iter) or scale the data as shown in:\n",
      "    https://scikit-learn.org/stable/modules/preprocessing.html\n",
      "Please also refer to the documentation for alternative solver options:\n",
      "    https://scikit-learn.org/stable/modules/linear_model.html#logistic-regression\n",
      "  n_iter_i = _check_optimize_result(\n"
     ]
    }
   ],
   "source": [
    "from sklearn.linear_model import LogisticRegression\n",
    "\n",
    "model = LogisticRegression()\n",
    "\n",
    "model.fit(x_train, y_train)\n",
    "\n",
    "y_pred = model.predict(x_valid)\n",
    "\n",
    "print(\"Training Accuracy :\", model.score(x_train, y_train))\n",
    "print(\"Validation Accuracy :\", model.score(x_valid, y_valid))\n",
    "\n",
    "# calculating the f1 score for the validation set\n",
    "print(\"F1 score :\", f1_score(y_valid, y_pred))\n",
    "\n",
    "# confusion matrix\n",
    "cm = confusion_matrix(y_valid, y_pred)\n",
    "print(cm)"
   ]
  },
  {
   "cell_type": "code",
   "execution_count": 24,
   "id": "da8356cd",
   "metadata": {
    "execution": {
     "iopub.execute_input": "2023-05-26T18:36:24.681561Z",
     "iopub.status.busy": "2023-05-26T18:36:24.680882Z",
     "iopub.status.idle": "2023-05-26T18:56:37.322775Z",
     "shell.execute_reply": "2023-05-26T18:56:37.321587Z"
    },
    "papermill": {
     "duration": 1212.699603,
     "end_time": "2023-05-26T18:56:37.353476",
     "exception": false,
     "start_time": "2023-05-26T18:36:24.653873",
     "status": "completed"
    },
    "tags": []
   },
   "outputs": [
    {
     "name": "stdout",
     "output_type": "stream",
     "text": [
      "Training Accuracy : 0.9851487213716574\n",
      "Validation Accuracy : 0.943186084344888\n",
      "F1 score : 0.5\n",
      "[[7415   17]\n",
      " [ 367  192]]\n"
     ]
    }
   ],
   "source": [
    "from sklearn import svm\n",
    "\n",
    "clf = svm.SVC()\n",
    "clf.fit(x_train, y_train)\n",
    "\n",
    "y_pred = clf.predict(x_valid)\n",
    "\n",
    "print(\"Training Accuracy :\", model.score(x_train, y_train))\n",
    "print(\"Validation Accuracy :\", model.score(x_valid, y_valid))\n",
    "\n",
    "# calculating the f1 score for the validation set\n",
    "print(\"F1 score :\", f1_score(y_valid, y_pred))\n",
    "\n",
    "# confusion matrix\n",
    "cm = confusion_matrix(y_valid, y_pred)\n",
    "print(cm)"
   ]
  }
 ],
 "metadata": {
  "kernelspec": {
   "display_name": "Python 3",
   "language": "python",
   "name": "python3"
  },
  "language_info": {
   "codemirror_mode": {
    "name": "ipython",
    "version": 3
   },
   "file_extension": ".py",
   "mimetype": "text/x-python",
   "name": "python",
   "nbconvert_exporter": "python",
   "pygments_lexer": "ipython3",
   "version": "3.10.10"
  },
  "papermill": {
   "default_parameters": {},
   "duration": 1517.944415,
   "end_time": "2023-05-26T18:56:38.613744",
   "environment_variables": {},
   "exception": null,
   "input_path": "__notebook__.ipynb",
   "output_path": "__notebook__.ipynb",
   "parameters": {},
   "start_time": "2023-05-26T18:31:20.669329",
   "version": "2.4.0"
  }
 },
 "nbformat": 4,
 "nbformat_minor": 5
}
